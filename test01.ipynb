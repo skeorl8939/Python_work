{
 "cells": [
  {
   "cell_type": "code",
   "execution_count": null,
   "metadata": {},
   "outputs": [],
   "source": [
    "a = 10\n",
    "b = 20\n",
    "print(a + b)"
   ]
  },
  {
   "cell_type": "code",
   "execution_count": null,
   "metadata": {},
   "outputs": [],
   "source": [
    "for i in range(1, 10):\n",
    "    print(i)"
   ]
  },
  {
   "cell_type": "code",
   "execution_count": null,
   "metadata": {},
   "outputs": [],
   "source": [
    "a = 20"
   ]
  },
  {
   "cell_type": "code",
   "execution_count": null,
   "metadata": {},
   "outputs": [],
   "source": [
    "b = 20"
   ]
  },
  {
   "cell_type": "code",
   "execution_count": null,
   "metadata": {},
   "outputs": [],
   "source": [
    "a + b; print(a + b)\n",
    "# 세미콜론은 1줄에 코드가 2개 이상 들어갈 때 사용\n",
    "# 자바와 달리 사용하면 컴파일 오류가 뜬다..."
   ]
  },
  {
   "attachments": {
    "image.png": {
     "image/png": "[encoded data removed]"
    }
   },
   "cell_type": "markdown",
   "metadata": {},
   "source": [
    "markdown은 설명 작성하는 어쩌고임\n",
    "이미지도 들어갈 수 있음\n",
    "![image.png](attachment:image.png)"
   ]
  },
  {
   "cell_type": "code",
   "execution_count": null,
   "metadata": {},
   "outputs": [],
   "source": [
    "a = 123\n",
    "b = -173\n",
    "c = 0\n",
    "print(a, b, c)"
   ]
  },
  {
   "cell_type": "code",
   "execution_count": null,
   "metadata": {},
   "outputs": [],
   "source": [
    "d1 = 1.2\n",
    "d2 = -3.14\n",
    "d3 = 3.14159265358979e10\n",
    "d4 = 1.2345e-10\n",
    "print(d1, d2, d3, d4)"
   ]
  },
  {
   "cell_type": "code",
   "execution_count": null,
   "metadata": {},
   "outputs": [],
   "source": [
    "o1 = 0o10\n",
    "print(o1)"
   ]
  },
  {
   "cell_type": "code",
   "execution_count": null,
   "metadata": {},
   "outputs": [],
   "source": [
    "h1 = 0xF\n",
    "h2 = 0xFACE\n",
    "print(h1, h2)"
   ]
  },
  {
   "cell_type": "code",
   "execution_count": null,
   "metadata": {},
   "outputs": [],
   "source": [
    "print(10 / 3)\n",
    "# 자동으로 실수로 형 변환해줌\n",
    "print(10 // 3)\n",
    "# 몫만  출력\n",
    "print(10 % 3)\n",
    "# 나머지만 출력\n",
    "print(3 ** 3)\n",
    "# 3의 3승을 출력"
   ]
  },
  {
   "cell_type": "code",
   "execution_count": null,
   "metadata": {},
   "outputs": [],
   "source": [
    "a = 10\n",
    "a += 1\n",
    "# 자바에서 쓰던 a++같은건 안먹힌다\n",
    "print(a)"
   ]
  },
  {
   "cell_type": "code",
   "execution_count": null,
   "metadata": {},
   "outputs": [],
   "source": [
    "a = 10\n",
    "b = 5\n",
    "print(a > b)\n",
    "print(a <= b)\n",
    "print(a == b)\n",
    "print(a != b)\n",
    "\n",
    "print(a & b)\n",
    "# 비트 단위 and\n",
    "print(a | b)\n",
    "# 비트 단위 or\n",
    "print(a ^ b)\n",
    "# 비트 단위 xor\n",
    "print(~a)\n",
    "# 비트 단위 not\n",
    "print(a>>2)\n",
    "# 비트 오른쪽으로 두칸 이동"
   ]
  },
  {
   "cell_type": "code",
   "execution_count": null,
   "metadata": {},
   "outputs": [],
   "source": [
    "print((a > 5) and (b < 5))\n",
    "print((a > 5) or (b < 5))\n",
    "print(not((a > 5) and (b < 5)))\n",
    "print(not((a > 5) or (b < 5)))"
   ]
  },
  {
   "cell_type": "code",
   "execution_count": null,
   "metadata": {},
   "outputs": [],
   "source": [
    "a = 3.14159265358979\n",
    "intA = int(a)\n",
    "print(a, intA)\n",
    "\n",
    "floatA = float(intA)\n",
    "print(floatA)"
   ]
  },
  {
   "cell_type": "code",
   "execution_count": null,
   "metadata": {},
   "outputs": [],
   "source": [
    "# 파이썬에서 논리값은 true, false가 아니라 True, False 이렇게 적어줘야 한다\n",
    "print(True == 1)\n",
    "print(True == 10)\n",
    "print(False == 1)\n",
    "print(False == 0)\n",
    "# 정수(or 실수) 0과 1은 불리언 False, True와 같다"
   ]
  },
  {
   "cell_type": "code",
   "execution_count": null,
   "metadata": {},
   "outputs": [],
   "source": [
    "s1 = \"abc\"\n",
    "print(\"abc\" == s1)\n",
    "# 자바랑 달리 .equals 이런거 안해도 됨"
   ]
  },
  {
   "cell_type": "code",
   "execution_count": null,
   "metadata": {},
   "outputs": [],
   "source": [
    "s1 = \"3.14\"\n",
    "s2 = \"10\"\n",
    "f1 = float(s1)\n",
    "i = int(s2)\n",
    "print(f1, i)\n",
    "print(type(s1), type(s2), type(f1), type(i))"
   ]
  },
  {
   "cell_type": "code",
   "execution_count": null,
   "metadata": {},
   "outputs": [],
   "source": [
    "i1 = 10\n",
    "s1 = str(i1)\n",
    "print(\"abc\" + s1)"
   ]
  },
  {
   "cell_type": "code",
   "execution_count": null,
   "metadata": {},
   "outputs": [],
   "source": [
    "a = \"a\"\n",
    "print(a * 5)\n",
    "# 문자열은 반복출력이 가능함\n",
    "# 문자형은 파이썬에 없음. 문자열형만 있음\n",
    "# \"\"도 ''도 다 쓸 수 있음"
   ]
  },
  {
   "cell_type": "code",
   "execution_count": null,
   "metadata": {},
   "outputs": [],
   "source": [
    "a = 3\n",
    "b = [1, 3, 5, 8, 7]\n",
    "print(a in b)\n",
    "print(a not in b)\n",
    "# in: 요소가 리스트 안에 있는지 없는지 불리언값 리턴"
   ]
  },
  {
   "cell_type": "code",
   "execution_count": null,
   "metadata": {},
   "outputs": [],
   "source": [
    "# 파이썬에서 여러 줄 문자열을 쓰는 방법(\"든 '든 3개 써서 싸면 됨)\n",
    "a = \"\"\"Do you remember\n",
    "the 21th night of september?\"\"\"\n",
    "print(a)"
   ]
  },
  {
   "cell_type": "code",
   "execution_count": null,
   "metadata": {},
   "outputs": [],
   "source": [
    "# 따옴표들을 문자열 안에 포함시키고 싶은... 그런 날이 있지...\n",
    "a = \"She's gone out of my life\"\n",
    "b = '\"I was wrong. I was so untrue\"'\n",
    "c = \"\"\"\n",
    "\\\"Ba-di-yaa\n",
    "Say do you remember\n",
    "Ba-di-yaa\n",
    "Dancin\\' in september\n",
    "Ba-di-yaa\n",
    "Never was a cloudy day\\\"\n",
    "\"\"\"\n",
    "# 참고로 \\n쓰면 엔터로 인식함\n",
    "print(a)\n",
    "print(b)\n",
    "print(c)"
   ]
  },
  {
   "cell_type": "code",
   "execution_count": null,
   "metadata": {},
   "outputs": [],
   "source": [
    "a = \"Do you remember \"\n",
    "b = \"the 21st night of september? \"\n",
    "c = \"Love was changin\\' the mind of pretender \"\n",
    "d = \"- while chasin\\' the clouds away\"\n",
    "print(a + b + c + d)\n",
    "print(len((a + b + c + d)))\n",
    "# len은 문자열의 길이를 반환하는 내장함수여요 히히\n"
   ]
  },
  {
   "cell_type": "code",
   "execution_count": null,
   "metadata": {},
   "outputs": [],
   "source": [
    "# 슬라이싱: 인덱스를 사용해서 문자열 잘라잘라 우하하\n",
    "# str[start:end:step]\n",
    "print(a[0]) #문자열의 첫번째 문자\n",
    "print(a[-1]) #문자열의 마지막 문자\n",
    "print(a[0:6]) #문자열의 0~5번째 문자( = a[0:6:1] = a[:6] = a[:6:1])\n",
    "print(a[7:])  #문자열의 7번째부터 끝까지 문자\n",
    "print(a[:])   #문자열의 처음부터 끝까지 문자\n",
    "print(a[0:6:2]) #문자열의 0~5번째 문자를 2칸씩 건너뛰어 출력\n",
    "print(a[::3])   #문자열의 처음부터 끝까지 3칸씩 건너뛰어 출력\n",
    "print(a[::-1])  #문자열을 역순으로 출력\n",
    "print(a[::])    #start, end, step을 기본값으로... 걍 a임 ㅋㅋ\n",
    "print(a[0:3451478653])  #인덱스 범위가 어처구니 없이 크면 시작값이나 끝값 같은 거 알아서 조정해줌 ㅋㅋ"
   ]
  },
  {
   "cell_type": "code",
   "execution_count": null,
   "metadata": {},
   "outputs": [],
   "source": [
    "# 문자열 포매팅\n",
    "a = 1\n",
    "b = 2\n",
    "c = \"Fuck you\"\n",
    "\n",
    "str = \"%d plus %d equals %d. %s.\" %(a, b, a + b, c)\n",
    "print(str)"
   ]
  },
  {
   "cell_type": "code",
   "execution_count": null,
   "metadata": {},
   "outputs": [],
   "source": [
    "# format 함수\n",
    "name = \"홍길동\"\n",
    "age = 20\n",
    "weight = 73.14159265358979\n",
    "\n",
    "str2 = \"내 이름은 {}이고, 나이는 {}이며, 몸무게는 {}입니다.\".format(name, age, weight)\n",
    "print(str2)"
   ]
  },
  {
   "cell_type": "code",
   "execution_count": null,
   "metadata": {},
   "outputs": [],
   "source": [
    "# format 함수 인덱스 사용하기\n",
    "str3 = \"내 이름은 {0}이고, 나이는 {1}이며, {0}의 몸무게는 {2}입니다.\".format(name, age, weight)\n",
    "print(str3)"
   ]
  },
  {
   "cell_type": "code",
   "execution_count": null,
   "metadata": {},
   "outputs": [],
   "source": [
    "# format 함수 인덱스 변수명 사용하기\n",
    "str4 = \"내 이름은 {n}이고, 나이는 {a}이며, {n}의 몸무게는 {w}입니다.\".format(n = name, a = age, w = weight)\n",
    "print(str4)"
   ]
  },
  {
   "cell_type": "code",
   "execution_count": null,
   "metadata": {},
   "outputs": [],
   "source": [
    "# format 함수 인덱스 형식 지정\n",
    "str5 = \"내 이름은 {0:>5s}이고, 나이는 {1:^3d}이며, {0:>5s}의 몸무게는 {2:.2f}입니다.\".format(name, age, weight)\n",
    "print(str5)\n",
    "# >는 오른쪽 정렬이고 <는 왼쪽 정렬, ^는 중앙 정렬임"
   ]
  },
  {
   "cell_type": "code",
   "execution_count": null,
   "metadata": {},
   "outputs": [],
   "source": [
    "# format 함수를 통한 포매팅\n",
    "s1 = \"{:=^10}\".format(\"hi\")\n",
    "s2 = \"{:!>10}\".format(\"hi\")\n",
    "s3 = \"{:ㅋ<10}\".format(\"hi\")\n",
    "print(s1)\n",
    "print(s2)\n",
    "print(s3)"
   ]
  },
  {
   "cell_type": "code",
   "execution_count": 102,
   "metadata": {},
   "outputs": [
    {
     "name": "stdout",
     "output_type": "stream",
     "text": [
      "내 이름은 홍길동       이고, 나이는 @@@@20@@@@이며, 홍길동의 몸무게는 73.142입니다.\n"
     ]
    }
   ],
   "source": [
    "# f 문자열 포매팅 (파이썬 버전 3.6부터 지원)\n",
    "str = f\"내 이름은 {name:<10}이고, 나이는 {age:@^10}이며, {name}의 몸무게는 {weight:0.3f}입니다.\"\n",
    "print(str)"
   ]
  },
  {
   "cell_type": "code",
   "execution_count": null,
   "metadata": {},
   "outputs": [
    {
     "name": "stdout",
     "output_type": "stream",
     "text": [
      "이름은 홍길동, 나이는 20입니다.\n",
      "이름은 홍길동, 나이는 20입니다.\n",
      "이름은 홍길동, 나이는 20입니다.\n"
     ]
    }
   ],
   "source": [
    "# 문자열 포매팅 3줄 요약\n",
    "str1 = \"이름은 %s, 나이는 %d입니다.\" %(name, age)\n",
    "str2 = \"이름은 {}, 나이는 {}입니다.\".format(name, age)\n",
    "str3 = f\"이름은 {name}, 나이는 {age}입니다.\"\n",
    "print(str1)\n",
    "print(str2)\n",
    "print(str3)"
   ]
  },
  {
   "cell_type": "code",
   "execution_count": 109,
   "metadata": {},
   "outputs": [
    {
     "name": "stdout",
     "output_type": "stream",
     "text": [
      "4\n"
     ]
    }
   ],
   "source": [
    "food1 = \"Python's favorite food is human meat.\"\n",
    "print(food1.count(\"o\"))"
   ]
  },
  {
   "cell_type": "code",
   "execution_count": null,
   "metadata": {},
   "outputs": [
    {
     "name": "stdout",
     "output_type": "stream",
     "text": [
      "3\n",
      "237\n"
     ]
    }
   ],
   "source": [
    "news = \"\"\"이 전 대통령은 서울 서초동 '이명박 재단'에서 진행된 권 원내대표와의 면담에서,\n",
    "소수 여당으로서 대통령이 일할 수 있도록 똘똘 뭉쳤어야 하는데 분열돼 안타까웠다고 말했습니다.\n",
    "다만, 권 원내대표 체제가 된 뒤 당이 좀 안정화된 것 같아 다행스럽다고 덧붙였습니다.\n",
    "김대식 원내수석대변인은 비공개 면담 뒤 기자들과 만나,\n",
    "이 전 대통령이 한미관계를 걱정하며 통상 전문가인 한덕수 국무총리의 조속한 복귀를 바랐다고 전했습니다.\n",
    "\"\"\"\n",
    "print(news.count(\"습니다\")) # 문자열 안에 \"습니다\"가 몇개 들어있는지를 셈\n",
    "print(len(news))"
   ]
  },
  {
   "cell_type": "code",
   "execution_count": 130,
   "metadata": {},
   "outputs": [
    {
     "name": "stdout",
     "output_type": "stream",
     "text": [
      "python is the best of best choice\n",
      "PYTHON IS THE BEST OF BEST CHOICE\n",
      "Python is the best of best choice\n",
      "Python Is The Best Of Best Choice\n",
      "14\n",
      "22\n",
      "True\n",
      "False\n"
     ]
    }
   ],
   "source": [
    "a = 'Python is the Best of Best Choice'\n",
    "print(a.lower())\n",
    "print(a.upper())\n",
    "print(a.capitalize()) # 문자열의 첫 글자만 대문자로\n",
    "print(a.title()) # 각 단어의 첫 글자를 모두 대문자로\n",
    "\n",
    "print(a.find(\"Best\")) # \"Best\"라는 단어를 왼쪽 인덱스에서부터 세서 몇번째에 있는지 찾음\n",
    "print(a.rfind(\"Best\")) # \"Best\"라는 단어를 오른쪽 인덱스에서부터 세서 몇번째에 있는지 찾음\n",
    "\n",
    "print(a.startswith(\"Python\")) # 문자열이 \"Python\"으로 시작하는지 불리언값을 반환\n",
    "print(a.endswith(\"Python\")) # 문자열이 \"Python\"으로 끝나는지 불리언값을 반환"
   ]
  },
  {
   "cell_type": "code",
   "execution_count": null,
   "metadata": {},
   "outputs": [
    {
     "name": "stdout",
     "output_type": "stream",
     "text": [
      "['Python', 'is', 'the', 'Best', 'of', 'Best', 'Choice']\n",
      "['red', 'green', 'blue']\n"
     ]
    }
   ],
   "source": [
    "# 문자열 스플릿\n",
    "arr = a.split() # 구분자 기본값 = 공백으로 문자열을 쪼갬\n",
    "print(arr)\n",
    "\n",
    "cc = \"red-green-blue\"\n",
    "arr2 = cc.split(\"-\") # 구분자를 넣으면 그게 구분자가 되겠지... 아무래도... 그게 구분자라는 것이니까...\n",
    "print(arr2)"
   ]
  },
  {
   "cell_type": "code",
   "execution_count": 143,
   "metadata": {},
   "outputs": [
    {
     "name": "stdout",
     "output_type": "stream",
     "text": [
      "babo  python is the best  babo\n",
      "babo python is the best babo\n",
      "babo python is the best  babo\n",
      "babo  python is the best babo\n"
     ]
    }
   ],
   "source": [
    "# strip 함수\n",
    "aa = \" python is the best \"\n",
    "print(\"babo\", aa, \"babo\")\n",
    "print(\"babo\", aa.strip(), \"babo\") # strip함수는 문자열 양 끝의 공백을 지워줌\n",
    "print(\"babo\", aa.lstrip(), \"babo\") # lsrrip은 문자열 왼쪽 공백만 지워줌\n",
    "print(\"babo\", aa.rstrip(), \"babo\") # rsrrip은 문자열 오른쪽 공백만 지워줌"
   ]
  },
  {
   "cell_type": "code",
   "execution_count": 147,
   "metadata": {},
   "outputs": [
    {
     "name": "stdout",
     "output_type": "stream",
     "text": [
      "Python is the Best of Best Choice\n",
      "-1\n",
      "14\n"
     ]
    }
   ],
   "source": [
    "print(a)\n",
    "print(a.find(\"digimon\")) # 없는 글자를 찾으면 -1을 반환함\n",
    "print(a.index(\"Best\"))\n",
    "# print(a.index(\"digimon\")) <- 이건 아무것도 반환 못하고 오류가 떠버림"
   ]
  },
  {
   "cell_type": "code",
   "execution_count": 150,
   "metadata": {},
   "outputs": [
    {
     "name": "stdout",
     "output_type": "stream",
     "text": [
      "Digimon is the Best of Best Choice\n"
     ]
    }
   ],
   "source": [
    "# 문자열 바꾸기\n",
    "c = a.replace(\"Python\", \"Digimon\")\n",
    "print(c)"
   ]
  },
  {
   "cell_type": "code",
   "execution_count": 156,
   "metadata": {},
   "outputs": [
    {
     "name": "stdout",
     "output_type": "stream",
     "text": [
      "비틀즈의 'Yesterday'에서 'yesterday'라는 단어는 총 9번 나옵니다.\n"
     ]
    }
   ],
   "source": [
    "yesterday = \"\"\"\n",
    "Yesterday\n",
    "all my troubles seemed so far away\n",
    "Now it looks as though they're here to stay\n",
    "Oh, I believe in yesterday\n",
    "Suddenly\n",
    "I'm not half the man I used to be\n",
    "There's a shadow hanging over me\n",
    "Oh, yesterday came suddenly\n",
    "Why she had to go?\n",
    "I don't know, she wouldn't say\n",
    "I said something wrong\n",
    "now I long for yesterday\n",
    "Yesterday love was such an easy game to play\n",
    "Now I need a place to hide away\n",
    "Oh, I believe in yesterday.\n",
    "Why she had to go?\n",
    "I don't know, She wouldn't say\n",
    "I said something wrong\n",
    "Now I long for yesterday\n",
    "Yesterday love was such an easy game to play\n",
    "Now I need a place to hide away\n",
    "Oh, I believe in yesterday\n",
    "\"\"\"\n",
    "\n",
    "print(f\"비틀즈의 \\'Yesterday\\'에서 \\'yesterday\\'라는 단어는 총 {yesterday.lower().count(\"yesterday\")}번 나옵니다.\")"
   ]
  },
  {
   "cell_type": "code",
   "execution_count": 157,
   "metadata": {},
   "outputs": [
    {
     "data": {
      "text/plain": [
       "[1, 2, 3]"
      ]
     },
     "execution_count": 157,
     "metadata": {},
     "output_type": "execute_result"
    }
   ],
   "source": [
    "a = [1, 2, 3]\n",
    "a"
   ]
  },
  {
   "cell_type": "code",
   "execution_count": 159,
   "metadata": {},
   "outputs": [
    {
     "name": "stdout",
     "output_type": "stream",
     "text": [
      "1\n",
      "2\n",
      "4\n"
     ]
    }
   ],
   "source": [
    "print(a[0])\n",
    "print(a[1])\n",
    "print(a[0] + a[2])"
   ]
  },
  {
   "cell_type": "code",
   "execution_count": 160,
   "metadata": {},
   "outputs": [
    {
     "name": "stdout",
     "output_type": "stream",
     "text": [
      "3\n",
      "5\n"
     ]
    }
   ],
   "source": [
    "print(a[-1])\n",
    "b = [1, 2, 3, 4, 5]\n",
    "print(b[-1])"
   ]
  },
  {
   "cell_type": "code",
   "execution_count": null,
   "metadata": {},
   "outputs": [
    {
     "name": "stdout",
     "output_type": "stream",
     "text": [
      "1\n",
      "2\n",
      "3\n",
      "가나다\n",
      "[10, 20, 30]\n",
      "10\n",
      "20\n",
      "30\n"
     ]
    }
   ],
   "source": [
    "# 리스트 주소 맛보기\n",
    "a = [1, 2, 3, \"가나다\", [10, 20, 30]]\n",
    "print(a[0])\n",
    "print(a[1])\n",
    "print(a[2])\n",
    "print(a[3])\n",
    "print(a[4])\n",
    "print(a[4][0])\n",
    "print(a[4][1])\n",
    "print(a[4][2])"
   ]
  },
  {
   "cell_type": "code",
   "execution_count": 165,
   "metadata": {},
   "outputs": [
    {
     "name": "stdout",
     "output_type": "stream",
     "text": [
      "Python\n"
     ]
    }
   ],
   "source": [
    "# 리스트 요소 바꾸기\n",
    "a[4] = \"Python\"\n",
    "print(a[4])"
   ]
  },
  {
   "cell_type": "code",
   "execution_count": null,
   "metadata": {},
   "outputs": [
    {
     "name": "stdout",
     "output_type": "stream",
     "text": [
      "[1, 2, 3]\n",
      "[1, 3]\n",
      "[4, 3, 2, 1]\n",
      "[3, 4]\n"
     ]
    }
   ],
   "source": [
    "# 리스트(계속)\n",
    "a = [1, 2, 3, 4]\n",
    "print(a[0:3])\n",
    "print(a[::2]) #2칸씩 띄어서 출력\n",
    "print(a[::-1]) #역순으로 출력\n",
    "print(a[2:])"
   ]
  },
  {
   "cell_type": "code",
   "execution_count": 168,
   "metadata": {},
   "outputs": [
    {
     "name": "stdout",
     "output_type": "stream",
     "text": [
      "[1, 2, 3, 4, 1, 2, 3, 4, 1, 2, 3, 4]\n",
      "[1, 2, 3, 4, 10, 20, 30, 40, 50]\n",
      "[1, 2, 3]\n",
      "[1, 3, 5]\n",
      "[5, 4, 3, 2, 1]\n",
      "[3, 4, 5]\n"
     ]
    }
   ],
   "source": [
    "# 리스트(계속)\n",
    "b=[10,20,30,40,50]\n",
    "print(a*3) #리스트 반복\n",
    "print(a+b)\n",
    "\n",
    "a=[1,2,3,4,5]\n",
    "print(a[0:3])\n",
    "print(a[::2]) #2칸씩 띄어서 출력\n",
    "print(a[::-1]) #역순으로 출력\n",
    "print(a[2:])\n"
   ]
  },
  {
   "cell_type": "code",
   "execution_count": 174,
   "metadata": {},
   "outputs": [
    {
     "name": "stdout",
     "output_type": "stream",
     "text": [
      "['a', 'b', 'c', 'd']\n",
      "abcd\n",
      "a-바보-b-바보-c-바보-d\n"
     ]
    }
   ],
   "source": [
    "# 리스트(계속)\n",
    "str1 = \"abcd\"\n",
    "arr = list(str1)\n",
    "print(arr) # list(문자열)을 사용하면... 문자열을 말그대로 리스트로 만들어줌\n",
    "print(\"\".join(arr)) # .join(리스트)를 사용하면... 리스트를 인덱스 순서대로 문자열로 합쳐줌\n",
    "print(\"-바보-\".join(arr)) # .join()앞에 뭔가 붙이면 그걸 구분자로 인식해서 문자열을 붙여줌"
   ]
  },
  {
   "cell_type": "code",
   "execution_count": 178,
   "metadata": {},
   "outputs": [
    {
     "name": "stdout",
     "output_type": "stream",
     "text": [
      "[1, 2, 3]\n",
      "[1, 3]\n"
     ]
    }
   ],
   "source": [
    "# 리스트 요소 삭제\n",
    "del a[3:] # 인덱스 3부터 제거한다는 말\n",
    "print(a)\n",
    "del a[1] # 인덱스 1을 제거한다는 말\n",
    "print(a)"
   ]
  },
  {
   "cell_type": "code",
   "execution_count": 190,
   "metadata": {},
   "outputs": [
    {
     "name": "stdout",
     "output_type": "stream",
     "text": [
      "[1, 2, 10]\n",
      "[1, 2, 10, 20]\n",
      "[1, 2, 10, 20, [10, 20]]\n",
      "[1, 2, 10, 20, [10, 20], 300, 400]\n",
      "[1, 500, 2, 10, 20, [10, 20], 300, 400]\n"
     ]
    }
   ],
   "source": [
    "# 리스트(계속)\n",
    "a = [1, 2]\n",
    "a.append(10)\n",
    "print(a) # .append(요소): 마지막 인덱스에 요소를 추가\n",
    "a.append(20)\n",
    "print(a)\n",
    "a.append([10, 20])\n",
    "print(a)\n",
    "a.extend([300, 400]) # .extend는 리스트를 추가하면 그냥 리스트 안의 요소를 개별로 추가시킴\n",
    "print(a)\n",
    "a.insert(1, 500) # 인덱스 1에다가 요소를 추가함\n",
    "print(a)\n",
    "aa = a"
   ]
  },
  {
   "cell_type": "code",
   "execution_count": null,
   "metadata": {},
   "outputs": [
    {
     "name": "stdout",
     "output_type": "stream",
     "text": [
      "[500, 2, 10, 20, [10, 20], 300, 400]\n",
      "[1, 500, 2, 10, 20, [10, 20], 300, 400]\n",
      "[500, 2, 10, 20, [10, 20], 300, 400]\n"
     ]
    }
   ],
   "source": [
    "# 리스트 요소 삭제(2)\n",
    "aa.remove(1) # 요소의 값으로 지우는 방법\n",
    "print(a)\n",
    "aa.insert(0, 1)\n",
    "print(a)\n",
    "del a[0] # 인덱스 값으로 지우는 방법\n",
    "print(a)"
   ]
  }
 ],
 "metadata": {
  "kernelspec": {
   "display_name": "base",
   "language": "python",
   "name": "python3"
  },
  "language_info": {
   "codemirror_mode": {
    "name": "ipython",
    "version": 3
   },
   "file_extension": ".py",
   "mimetype": "text/x-python",
   "name": "python",
   "nbconvert_exporter": "python",
   "pygments_lexer": "ipython3",
   "version": "3.12.7"
  }
 },
 "nbformat": 4,
 "nbformat_minor": 2
}
